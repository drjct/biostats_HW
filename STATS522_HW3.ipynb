{
  "nbformat": 4,
  "nbformat_minor": 0,
  "metadata": {
    "colab": {
      "name": "STATS522-HW3.ipynb",
      "provenance": [],
      "collapsed_sections": [],
      "toc_visible": true,
      "authorship_tag": "ABX9TyOXQBp2z78Uvfav/hGkb4fB",
      "include_colab_link": true
    },
    "kernelspec": {
      "name": "python3",
      "display_name": "Python 3"
    }
  },
  "cells": [
    {
      "cell_type": "markdown",
      "metadata": {
        "id": "view-in-github",
        "colab_type": "text"
      },
      "source": [
        "<a href=\"https://colab.research.google.com/github/jctan05/biostats_HW/blob/master/STATS522_HW3.ipynb\" target=\"_parent\"><img src=\"https://colab.research.google.com/assets/colab-badge.svg\" alt=\"Open In Colab\"/></a>"
      ]
    },
    {
      "cell_type": "code",
      "metadata": {
        "id": "dxsS1UGLfU8r",
        "colab_type": "code",
        "colab": {}
      },
      "source": [
        "import pandas as pd\n",
        "import seaborn as sns\n",
        "from scipy import stats\n",
        "import statsmodels.api as sm\n",
        "import statsmodels.formula.api as smf\n",
        "\n",
        "sns.set('notebook')"
      ],
      "execution_count": 0,
      "outputs": []
    },
    {
      "cell_type": "code",
      "metadata": {
        "id": "jYA8lTGFftx_",
        "colab_type": "code",
        "colab": {}
      },
      "source": [
        "df = pd.read_csv('SENIC.txt', header= None, names=[\"id\", \"los\", \"age\", \"infect\", \"culture\", \"xray\", \"beds\",  \n",
        "                  \"school\", \"region\", \"census\", \"nurses\", \"service\"], delim_whitespace=True)"
      ],
      "execution_count": 0,
      "outputs": []
    },
    {
      "cell_type": "markdown",
      "metadata": {
        "id": "GS8mtG0PgbXZ",
        "colab_type": "text"
      },
      "source": [
        "1. Refer to the SENIC data set in the previous assignments. A multiple regression model has been proposed for predicting the average length of stay in a hospital (Y: LOS), using the following five predictors: infection risk (X1), average daily census (X2), number of nurses (X3), number of beds (X4), and routine chest X-ray (X5).\n",
        "\n",
        "    a. Fit the proposed multiple regression model using X1 to X5. Report the estimated regression equation. For each beta estimate, report a 95% confidence interval."
      ]
    },
    {
      "cell_type": "code",
      "metadata": {
        "id": "5_wHIDjKgb5W",
        "colab_type": "code",
        "outputId": "381a7c42-cd31-4ad6-c93d-e79fcf06e69d",
        "colab": {
          "base_uri": "https://localhost:8080/",
          "height": 586
        }
      },
      "source": [
        "\n",
        "mod = smf.ols(formula='los ~ infect + census + nurses + beds + xray', data=df)\n",
        "\n",
        "res = mod.fit()\n",
        "\n",
        "print(res.summary())"
      ],
      "execution_count": 0,
      "outputs": [
        {
          "output_type": "stream",
          "text": [
            "                            OLS Regression Results                            \n",
            "==============================================================================\n",
            "Dep. Variable:                    los   R-squared:                       0.508\n",
            "Model:                            OLS   Adj. R-squared:                  0.485\n",
            "Method:                 Least Squares   F-statistic:                     22.07\n",
            "Date:                Tue, 28 Jan 2020   Prob (F-statistic):           3.85e-15\n",
            "Time:                        11:48:02   Log-Likelihood:                -193.00\n",
            "No. Observations:                 113   AIC:                             398.0\n",
            "Df Residuals:                     107   BIC:                             414.4\n",
            "Df Model:                           5                                         \n",
            "Covariance Type:            nonrobust                                         \n",
            "==============================================================================\n",
            "                 coef    std err          t      P>|t|      [0.025      0.975]\n",
            "------------------------------------------------------------------------------\n",
            "Intercept      5.4237      0.609      8.912      0.000       4.217       6.630\n",
            "infect         0.4527      0.119      3.791      0.000       0.216       0.689\n",
            "census         0.0212      0.004      4.802      0.000       0.012       0.030\n",
            "nurses        -0.0067      0.002     -2.840      0.005      -0.011      -0.002\n",
            "beds          -0.0094      0.004     -2.547      0.012      -0.017      -0.002\n",
            "xray           0.0209      0.008      2.758      0.007       0.006       0.036\n",
            "==============================================================================\n",
            "Omnibus:                       42.268   Durbin-Watson:                   2.062\n",
            "Prob(Omnibus):                  0.000   Jarque-Bera (JB):              158.751\n",
            "Skew:                           1.227   Prob(JB):                     3.37e-35\n",
            "Kurtosis:                       8.262   Cond. No.                     2.17e+03\n",
            "==============================================================================\n",
            "\n",
            "Warnings:\n",
            "[1] Standard Errors assume that the covariance matrix of the errors is correctly specified.\n",
            "[2] The condition number is large, 2.17e+03. This might indicate that there are\n",
            "strong multicollinearity or other numerical problems.\n"
          ],
          "name": "stdout"
        }
      ]
    },
    {
      "cell_type": "code",
      "metadata": {
        "id": "wWOchyka67Cs",
        "colab_type": "code",
        "outputId": "0a8c3539-8d1c-4b06-9ad9-213832c907cc",
        "colab": {
          "base_uri": "https://localhost:8080/",
          "height": 72
        }
      },
      "source": [
        "print(res.ssr)\n",
        "print(res.ess)\n",
        "print(res.centered_tss)"
      ],
      "execution_count": 0,
      "outputs": [
        {
          "output_type": "stream",
          "text": [
            "201.43292280403205\n",
            "207.77745772694135\n",
            "409.2103805309734\n"
          ],
          "name": "stdout"
        }
      ]
    },
    {
      "cell_type": "markdown",
      "metadata": {
        "id": "StC7lYWcieOd",
        "colab_type": "text"
      },
      "source": [
        "The estimated regression equation is\n",
        "$los = 5.4237 + 0.4527*infect + 0.212*census -0.0067*nurses -0.0094*beds + 0.0209 * xray$\n",
        "\n",
        "$\\beta_{1}$ : [0.216, 0.689]  \n",
        "$\\beta_{2}$ : [0.012, 0.030]  \n",
        "$\\beta_{3}$ : [-0.011, -0.002]  \n",
        "$\\beta_{4}$ : [-0.017, -0.002]  \n",
        "$\\beta_{5}$ : [0.006, 0.036]\n",
        "\n",
        "\n",
        "\n",
        "---\n",
        "\n",
        "b. Report the coefficient of determination and test whether there is a regression relation using the overall F-test. Make sure to state the null hypothesis being tested here. State your conclusion and interpret the result.\n",
        "\n",
        "$R^2$ = 0.508\n",
        "\n",
        "There is as regression relation using the overall F-test (F-statistic 22.07, p-value < 0.05). The null hypothesis is that $\\beta_{1} = \\beta_{2} = \\beta{3} = \\beta{4} = \\beta{5} = 0$. \n",
        "\n",
        "According to the overall F-test, the means of one paramter is significantly different from the other parameters.\n",
        "\n",
        "\n",
        "\n",
        "---\n",
        "\n",
        "Construct the ANOVA table that decomposes the regression sum of squares (SSR) into extra sums of squares as shown below. Make sure to fill in all the degrees of freedom as well.\n",
        "\n",
        "\n",
        "\n",
        "\n",
        "\n",
        "\n",
        "\n",
        "\n"
      ]
    },
    {
      "cell_type": "code",
      "metadata": {
        "id": "X-zdcK7Dq46a",
        "colab_type": "code",
        "outputId": "3231245c-e7d9-4c5a-db33-bc44730568d3",
        "colab": {
          "base_uri": "https://localhost:8080/",
          "height": 182
        }
      },
      "source": [
        "print(sm.stats.anova_lm(res, typ=1)) # Type 1 ANOVA dataframe\n",
        "\n",
        "print('SSE: : {}'.format(sm.stats.anova_lm(res, typ=1)['sum_sq'].sum()-sm.stats.anova_lm(res, typ=1)['sum_sq']['Residual']))\n",
        "print('Total SS : {}'.format(sm.stats.anova_lm(res, typ=1)['sum_sq'].sum()))"
      ],
      "execution_count": 0,
      "outputs": [
        {
          "output_type": "stream",
          "text": [
            "             df      sum_sq     mean_sq          F        PR(>F)\n",
            "infect      1.0  116.445856  116.445856  61.855363  3.145187e-12\n",
            "census      1.0   35.019697   35.019697  18.602260  3.598345e-05\n",
            "nurses      1.0   28.382473   28.382473  15.076605  1.789914e-04\n",
            "beds        1.0   13.611084   13.611084   7.230129  8.317098e-03\n",
            "xray        1.0   14.318348   14.318348   7.605823  6.843435e-03\n",
            "Residual  107.0  201.432923    1.882551        NaN           NaN\n",
            "SSE: : 207.77745772694152\n",
            "Total SS : 409.21038053097357\n"
          ],
          "name": "stdout"
        }
      ]
    },
    {
      "cell_type": "markdown",
      "metadata": {
        "id": "wt6XEWh6s4sw",
        "colab_type": "text"
      },
      "source": [
        "| Source  | df  |  SS |\n",
        "|-------|---|---|\n",
        "| Regression | | |\n",
        "| $SSR(X_{1})$ | 1 | 116.445856 |\n",
        "| $SSR(X_{2} | X_{1})$ | 1 | 35.019697 |\n",
        "| $SSR(X_{3} | X_{1}, X_{2})$| 1 | 28.382473 |\n",
        "| $SSR(X_{4} | X_{1}, X_{2}, X_{3})$| 1 | 13.611084 |\n",
        "| $SSR(X_{5} | X_{1}, X_{2}, X_{3}, X_{4})$| 1 | 14.318348 | \n",
        "| Error | 107 | 207.77745 |\n",
        "| Total| 112 | 409.2103805 | \n",
        "\n",
        "\n",
        "\n",
        "---\n",
        "\n",
        "Based on the table you obtained in part c) above, test whether X3 can be dropped from the model having X1 and X2. Make sure to state the null hypothesis. Manually calculate the F- statistic. What are degrees of freedom associated with this F-test? Verify your calculation using SAS or R. According to the computer output, what is your conclusion?\n",
        "\n",
        "- To test whether or not X3 can be dropped from the model having X1 and X2, we must compare the full model (X1, X2, and X3), and the reduced model (X1 and X2 only). \n",
        "- The null hypothesis is that with X1 in the model, $\\beta_{2} = \\beta_{3} = 0$. \n",
        "- The F-statistic is calculated manually by:\n",
        "$$ F* = \\frac{SSR(X3 | X1, X2 ) / 1}{SSE (X1, X2, X3) / 109} = \\frac{28.38/1}{(179.848/109)} = 14.17$$\n",
        "- The degrees of freedom that are associated with this F-test are degrees of freedom of the reduced model - the degrees of freedom of the full model (or, how many predictors are removed. 1 in this case), divided by the degrees of freedom in the error term of the full model (109).\n",
        "\n",
        "\n"
      ]
    },
    {
      "cell_type": "code",
      "metadata": {
        "id": "03_GaPRvwkDH",
        "colab_type": "code",
        "outputId": "34de8a25-a0a1-4a42-a19b-a64edb5fa57e",
        "colab": {
          "base_uri": "https://localhost:8080/",
          "height": 54
        }
      },
      "source": [
        "mod_f = smf.ols(formula='los ~ infect + census + nurses', data=df).fit()\n",
        "mod_r = smf.ols(formula='los ~ infect + census', data=df).fit()\n",
        "\n",
        "print(mod_f.compare_f_test(restricted = mod_r))\n",
        "print('F-value,', 'p-value,', 'Difference in df')"
      ],
      "execution_count": 0,
      "outputs": [
        {
          "output_type": "stream",
          "text": [
            "(13.488218766225195, 0.0003737485539846009, 1.0)\n",
            "F-value, p-value, Difference in df\n"
          ],
          "name": "stdout"
        }
      ]
    },
    {
      "cell_type": "markdown",
      "metadata": {
        "id": "uh9D0IqD3rZz",
        "colab_type": "text"
      },
      "source": [
        "Based on this calculation (p < 0.05 with an F = 13.48), we fail to reject the null hypothesis and accept the alternative hypotehsis that either $\\beta{2}$ or $\\beta{3}$ is not zero with X1 in the model.\n",
        "\n",
        "\n",
        "---\n",
        "Run a regression model including X1, X2 and X3. Report the t-statistic associated with X3 and its p-value. Verify that this p-value is identical to the one you obtained in part d) above. Verify that the square of the t-statistic is equal to the F-statistic of the general linear F-test in part d).\n"
      ]
    },
    {
      "cell_type": "code",
      "metadata": {
        "id": "CSr7gwJs3jMM",
        "colab_type": "code",
        "outputId": "1cb47309-27bb-4b2b-f38a-82094f412bcf",
        "colab": {
          "base_uri": "https://localhost:8080/",
          "height": 529
        }
      },
      "source": [
        "mod_f.summary()\n"
      ],
      "execution_count": 0,
      "outputs": [
        {
          "output_type": "execute_result",
          "data": {
            "text/html": [
              "<table class=\"simpletable\">\n",
              "<caption>OLS Regression Results</caption>\n",
              "<tr>\n",
              "  <th>Dep. Variable:</th>           <td>los</td>       <th>  R-squared:         </th> <td>   0.440</td>\n",
              "</tr>\n",
              "<tr>\n",
              "  <th>Model:</th>                   <td>OLS</td>       <th>  Adj. R-squared:    </th> <td>   0.424</td>\n",
              "</tr>\n",
              "<tr>\n",
              "  <th>Method:</th>             <td>Least Squares</td>  <th>  F-statistic:       </th> <td>   28.49</td>\n",
              "</tr>\n",
              "<tr>\n",
              "  <th>Date:</th>             <td>Tue, 28 Jan 2020</td> <th>  Prob (F-statistic):</th> <td>1.12e-13</td>\n",
              "</tr>\n",
              "<tr>\n",
              "  <th>Time:</th>                 <td>11:49:25</td>     <th>  Log-Likelihood:    </th> <td> -200.34</td>\n",
              "</tr>\n",
              "<tr>\n",
              "  <th>No. Observations:</th>      <td>   113</td>      <th>  AIC:               </th> <td>   408.7</td>\n",
              "</tr>\n",
              "<tr>\n",
              "  <th>Df Residuals:</th>          <td>   109</td>      <th>  BIC:               </th> <td>   419.6</td>\n",
              "</tr>\n",
              "<tr>\n",
              "  <th>Df Model:</th>              <td>     3</td>      <th>                     </th>     <td> </td>   \n",
              "</tr>\n",
              "<tr>\n",
              "  <th>Covariance Type:</th>      <td>nonrobust</td>    <th>                     </th>     <td> </td>   \n",
              "</tr>\n",
              "</table>\n",
              "<table class=\"simpletable\">\n",
              "<tr>\n",
              "      <td></td>         <th>coef</th>     <th>std err</th>      <th>t</th>      <th>P>|t|</th>  <th>[0.025</th>    <th>0.975]</th>  \n",
              "</tr>\n",
              "<tr>\n",
              "  <th>Intercept</th> <td>    6.2839</td> <td>    0.466</td> <td>   13.491</td> <td> 0.000</td> <td>    5.361</td> <td>    7.207</td>\n",
              "</tr>\n",
              "<tr>\n",
              "  <th>infect</th>    <td>    0.6387</td> <td>    0.111</td> <td>    5.732</td> <td> 0.000</td> <td>    0.418</td> <td>    0.860</td>\n",
              "</tr>\n",
              "<tr>\n",
              "  <th>census</th>    <td>    0.0109</td> <td>    0.002</td> <td>    5.121</td> <td> 0.000</td> <td>    0.007</td> <td>    0.015</td>\n",
              "</tr>\n",
              "<tr>\n",
              "  <th>nurses</th>    <td>   -0.0087</td> <td>    0.002</td> <td>   -3.673</td> <td> 0.000</td> <td>   -0.013</td> <td>   -0.004</td>\n",
              "</tr>\n",
              "</table>\n",
              "<table class=\"simpletable\">\n",
              "<tr>\n",
              "  <th>Omnibus:</th>       <td>44.918</td> <th>  Durbin-Watson:     </th> <td>   2.241</td>\n",
              "</tr>\n",
              "<tr>\n",
              "  <th>Prob(Omnibus):</th> <td> 0.000</td> <th>  Jarque-Bera (JB):  </th> <td> 180.863</td>\n",
              "</tr>\n",
              "<tr>\n",
              "  <th>Skew:</th>          <td> 1.289</td> <th>  Prob(JB):          </th> <td>5.32e-40</td>\n",
              "</tr>\n",
              "<tr>\n",
              "  <th>Kurtosis:</th>      <td> 8.636</td> <th>  Cond. No.          </th> <td>1.14e+03</td>\n",
              "</tr>\n",
              "</table><br/><br/>Warnings:<br/>[1] Standard Errors assume that the covariance matrix of the errors is correctly specified.<br/>[2] The condition number is large, 1.14e+03. This might indicate that there are<br/>strong multicollinearity or other numerical problems."
            ],
            "text/plain": [
              "<class 'statsmodels.iolib.summary.Summary'>\n",
              "\"\"\"\n",
              "                            OLS Regression Results                            \n",
              "==============================================================================\n",
              "Dep. Variable:                    los   R-squared:                       0.440\n",
              "Model:                            OLS   Adj. R-squared:                  0.424\n",
              "Method:                 Least Squares   F-statistic:                     28.49\n",
              "Date:                Tue, 28 Jan 2020   Prob (F-statistic):           1.12e-13\n",
              "Time:                        11:49:25   Log-Likelihood:                -200.34\n",
              "No. Observations:                 113   AIC:                             408.7\n",
              "Df Residuals:                     109   BIC:                             419.6\n",
              "Df Model:                           3                                         \n",
              "Covariance Type:            nonrobust                                         \n",
              "==============================================================================\n",
              "                 coef    std err          t      P>|t|      [0.025      0.975]\n",
              "------------------------------------------------------------------------------\n",
              "Intercept      6.2839      0.466     13.491      0.000       5.361       7.207\n",
              "infect         0.6387      0.111      5.732      0.000       0.418       0.860\n",
              "census         0.0109      0.002      5.121      0.000       0.007       0.015\n",
              "nurses        -0.0087      0.002     -3.673      0.000      -0.013      -0.004\n",
              "==============================================================================\n",
              "Omnibus:                       44.918   Durbin-Watson:                   2.241\n",
              "Prob(Omnibus):                  0.000   Jarque-Bera (JB):              180.863\n",
              "Skew:                           1.289   Prob(JB):                     5.32e-40\n",
              "Kurtosis:                       8.636   Cond. No.                     1.14e+03\n",
              "==============================================================================\n",
              "\n",
              "Warnings:\n",
              "[1] Standard Errors assume that the covariance matrix of the errors is correctly specified.\n",
              "[2] The condition number is large, 1.14e+03. This might indicate that there are\n",
              "strong multicollinearity or other numerical problems.\n",
              "\"\"\""
            ]
          },
          "metadata": {
            "tags": []
          },
          "execution_count": 23
        }
      ]
    },
    {
      "cell_type": "code",
      "metadata": {
        "id": "s6Jy-xb07VBD",
        "colab_type": "code",
        "outputId": "7b0dd183-b94d-49f5-a2d2-e0f7b240dcb1",
        "colab": {
          "base_uri": "https://localhost:8080/",
          "height": 146
        }
      },
      "source": [
        "print(sm.stats.anova_lm(mod_f, typ=1)) # Type 1 ANOVA dataframe\n",
        "\n",
        "print('SSE: : {}'.format(sm.stats.anova_lm(mod_f, typ=1)['sum_sq'].sum()-sm.stats.anova_lm(mod_f, typ=1)['sum_sq']['Residual']))\n",
        "print('Total SS : {}'.format(sm.stats.anova_lm(mod_f, typ=1)['sum_sq'].sum()))\n"
      ],
      "execution_count": 0,
      "outputs": [
        {
          "output_type": "stream",
          "text": [
            "             df      sum_sq     mean_sq          F        PR(>F)\n",
            "infect      1.0  116.445856  116.445856  55.338629  2.472418e-11\n",
            "census      1.0   35.019697   35.019697  16.642430  8.616357e-05\n",
            "nurses      1.0   28.382473   28.382473  13.488219  3.737486e-04\n",
            "Residual  109.0  229.362354    2.104242        NaN           NaN\n",
            "SSE: : 179.84802627544258\n",
            "Total SS : 409.21038053097345\n"
          ],
          "name": "stdout"
        }
      ]
    },
    {
      "cell_type": "code",
      "metadata": {
        "id": "IYfMpAaS_7aI",
        "colab_type": "code",
        "outputId": "399a393a-6bc0-4db3-95eb-bfde9b7e7300",
        "colab": {
          "base_uri": "https://localhost:8080/",
          "height": 35
        }
      },
      "source": [
        "sm.stats.anova_lm(mod_f, typ=1)['sum_sq']['Residual']"
      ],
      "execution_count": 0,
      "outputs": [
        {
          "output_type": "execute_result",
          "data": {
            "text/plain": [
              "229.36235425553087"
            ]
          },
          "metadata": {
            "tags": []
          },
          "execution_count": 27
        }
      ]
    },
    {
      "cell_type": "code",
      "metadata": {
        "id": "3O5mGNEu0GtK",
        "colab_type": "code",
        "outputId": "03757bd1-78df-4ac9-d51e-14f694c0f445",
        "colab": {
          "base_uri": "https://localhost:8080/",
          "height": 109
        }
      },
      "source": [
        "mod_f.pvalues"
      ],
      "execution_count": 0,
      "outputs": [
        {
          "output_type": "execute_result",
          "data": {
            "text/plain": [
              "Intercept    5.492920e-25\n",
              "infect       8.937340e-08\n",
              "census       1.318149e-06\n",
              "nurses       3.737486e-04\n",
              "dtype: float64"
            ]
          },
          "metadata": {
            "tags": []
          },
          "execution_count": 9
        }
      ]
    },
    {
      "cell_type": "code",
      "metadata": {
        "id": "5Fd1S6D-5cw5",
        "colab_type": "code",
        "outputId": "8f1e2dbb-6dd0-47af-d64f-44bb00f173ad",
        "colab": {
          "base_uri": "https://localhost:8080/",
          "height": 35
        }
      },
      "source": [
        "mod_f.tvalues[3]**2"
      ],
      "execution_count": 0,
      "outputs": [
        {
          "output_type": "execute_result",
          "data": {
            "text/plain": [
              "13.488218766225806"
            ]
          },
          "metadata": {
            "tags": []
          },
          "execution_count": 10
        }
      ]
    },
    {
      "cell_type": "markdown",
      "metadata": {
        "id": "5tMC_1yf5QU0",
        "colab_type": "text"
      },
      "source": [
        "The t-statistic for X3 is -3.673 and the p-value is 3.73e-04. This p-value is identical to part d above and the square of the t-statistic is 13.48, which is equal to the F-statistic of the general linear F-test as well.\n",
        "\n",
        "\n",
        "\n",
        "---\n",
        "\n",
        "f. Based on the table you obtained in part c) above, test whether X4 and X5 can be simultaneously dropped from the model having X1, X2 and X3. Make sure to state the null hypothesis. Manually calculate the F-statistic. What are degrees of freedom associated with this F-test? Verify your calculation using SAS or R. According to the computer output, what is your conclusion?\n",
        "\n",
        "- The null hypothesis is that with X1, X2, and X3 in the model, $\\beta_{4} = \\beta_{5} = 0$. \n",
        "- The F-statistic is calculated manually by:\n",
        "$$ F* = \\frac{SSR(X4, X5 | X1, X2, X3 ) / 2}{SSE (X1, X2, X3, X4, X5) / 107} = \\frac{(SSR(X1, X2, X3, X4, X5) - SSR(X1, X2, X3))/ 2}{SSE (X1, X2, X3, X4, X5) / 107} = \\frac{(409.21-229.36)/2}{207.77/107} = 46.31$$\n",
        "- The degrees of freedom that are associated with this F-test are degrees of freedom of the reduced model - the degrees of freedom of the full model (or, how many predictors are removed. 2 in this case), divided by the degrees of freedom in the error term of the full model (107).\n",
        "\n",
        "\n",
        "\n",
        "\n"
      ]
    },
    {
      "cell_type": "code",
      "metadata": {
        "id": "YygUvhJn4alb",
        "colab_type": "code",
        "outputId": "a9c2677f-39c6-4118-b36e-b2031ba31ce0",
        "colab": {
          "base_uri": "https://localhost:8080/",
          "height": 54
        }
      },
      "source": [
        "# mod = X1-X5\n",
        "# mod_f = X1-X3\n",
        "# mod_r = X1, X2\n",
        "\n",
        "print(res.compare_f_test(restricted = mod_f))\n",
        "print('F-value,', 'p-value,', 'Difference in df')"
      ],
      "execution_count": 0,
      "outputs": [
        {
          "output_type": "stream",
          "text": [
            "(7.417975978578601, 0.000961711797784648, 2.0)\n",
            "F-value, p-value, Difference in df\n"
          ],
          "name": "stdout"
        }
      ]
    },
    {
      "cell_type": "markdown",
      "metadata": {
        "id": "3ZziQkddEGof",
        "colab_type": "text"
      },
      "source": [
        "Based on this calculation (p < 0.05 with an F = 7.418), we fail to reject the null hypothesis and accept the alternative hypothesis that not both $\\beta_{4}$ and $\\beta_{5}$ are zero while X1, X2, and X3 are in the model.\n",
        "\n",
        "\n",
        "---\n",
        "\n",
        "g. Compute the following coefficients of partial determination: R2Y3, R2Y3|1, R2Y3|1,2. How is the squared correlation between Y and X3 affected, when adjusted for X1, and for both X1 and X2?\n",
        "\n",
        "R2Y3 = SSR(X3)/SS Total = 0.06935912271  \n",
        "R2Y3|1 = SSR(X3 | X1) / SSE(X1) = 28.382 / (409.21-116.44) = 0.09694299279  \n",
        "R2Y3|1,2 = SSR(X3 | X1, X2) / SSE(X1, X2) = 28.382473 / (409.21-116.44-35.02) = 0.1101162871  \n",
        "\n",
        "The squared correlation increases when adjusted for X1, and also increases when adjusted for both X1 and X2.\n",
        "\n",
        "\n",
        "---\n",
        "\n",
        "\n",
        "h. For each of the following variables, calculate the coefficient of partial determination\n",
        "given that X1 and X2 are included in the model: number of nurses (X3), number of beds\n",
        "(X4), and routine chest X-ray (X5). Which of the three additional predictor variables is\n",
        "best? Is the extra sum of squares associates with this variable larger than those for the\n",
        "other two variables?"
      ]
    },
    {
      "cell_type": "code",
      "metadata": {
        "id": "l9pj7rXbKjUr",
        "colab_type": "code",
        "outputId": "0976d122-7e92-4097-a9dd-d466e5546184",
        "colab": {
          "base_uri": "https://localhost:8080/",
          "height": 788
        }
      },
      "source": [
        "!pip install pingouin"
      ],
      "execution_count": 0,
      "outputs": [
        {
          "output_type": "stream",
          "text": [
            "Collecting pingouin\n",
            "\u001b[?25l  Downloading https://files.pythonhosted.org/packages/b6/79/b9f15f0a0016d796b0e208d9b386d2bd6b347151d2c38560894b3e99a55c/pingouin-0.3.2.tar.gz (214kB)\n",
            "\u001b[K     |████████████████████████████████| 215kB 2.8MB/s \n",
            "\u001b[?25hRequirement already satisfied: numpy>=1.15 in /usr/local/lib/python3.6/dist-packages (from pingouin) (1.17.5)\n",
            "Requirement already satisfied: scipy>=1.3 in /usr/local/lib/python3.6/dist-packages (from pingouin) (1.4.1)\n",
            "Requirement already satisfied: pandas>=0.24 in /usr/local/lib/python3.6/dist-packages (from pingouin) (0.25.3)\n",
            "Requirement already satisfied: matplotlib>=3.0.2 in /usr/local/lib/python3.6/dist-packages (from pingouin) (3.1.2)\n",
            "Requirement already satisfied: seaborn>=0.9.0 in /usr/local/lib/python3.6/dist-packages (from pingouin) (0.9.0)\n",
            "Requirement already satisfied: statsmodels>=0.10.0 in /usr/local/lib/python3.6/dist-packages (from pingouin) (0.10.2)\n",
            "Collecting pandas_flavor>=0.1.2\n",
            "  Downloading https://files.pythonhosted.org/packages/9a/57/7fbcff4c0961ed190ac5fcb0bd8194152ee1ee6487edf64fdbae16e2bc4b/pandas_flavor-0.2.0-py2.py3-none-any.whl\n",
            "Collecting outdated\n",
            "  Downloading https://files.pythonhosted.org/packages/86/70/2f166266438a30e94140f00c99c0eac1c45807981052a1d4c123660e1323/outdated-0.2.0.tar.gz\n",
            "Requirement already satisfied: python-dateutil>=2.6.1 in /usr/local/lib/python3.6/dist-packages (from pandas>=0.24->pingouin) (2.6.1)\n",
            "Requirement already satisfied: pytz>=2017.2 in /usr/local/lib/python3.6/dist-packages (from pandas>=0.24->pingouin) (2018.9)\n",
            "Requirement already satisfied: kiwisolver>=1.0.1 in /usr/local/lib/python3.6/dist-packages (from matplotlib>=3.0.2->pingouin) (1.1.0)\n",
            "Requirement already satisfied: cycler>=0.10 in /usr/local/lib/python3.6/dist-packages (from matplotlib>=3.0.2->pingouin) (0.10.0)\n",
            "Requirement already satisfied: pyparsing!=2.0.4,!=2.1.2,!=2.1.6,>=2.0.1 in /usr/local/lib/python3.6/dist-packages (from matplotlib>=3.0.2->pingouin) (2.4.6)\n",
            "Requirement already satisfied: patsy>=0.4.0 in /usr/local/lib/python3.6/dist-packages (from statsmodels>=0.10.0->pingouin) (0.5.1)\n",
            "Requirement already satisfied: xarray in /usr/local/lib/python3.6/dist-packages (from pandas_flavor>=0.1.2->pingouin) (0.14.1)\n",
            "Collecting littleutils\n",
            "  Downloading https://files.pythonhosted.org/packages/4e/b1/bb4e06f010947d67349f863b6a2ad71577f85590180a935f60543f622652/littleutils-0.2.2.tar.gz\n",
            "Requirement already satisfied: requests in /usr/local/lib/python3.6/dist-packages (from outdated->pingouin) (2.21.0)\n",
            "Requirement already satisfied: six>=1.5 in /usr/local/lib/python3.6/dist-packages (from python-dateutil>=2.6.1->pandas>=0.24->pingouin) (1.12.0)\n",
            "Requirement already satisfied: setuptools in /usr/local/lib/python3.6/dist-packages (from kiwisolver>=1.0.1->matplotlib>=3.0.2->pingouin) (42.0.2)\n",
            "Requirement already satisfied: idna<2.9,>=2.5 in /usr/local/lib/python3.6/dist-packages (from requests->outdated->pingouin) (2.8)\n",
            "Requirement already satisfied: certifi>=2017.4.17 in /usr/local/lib/python3.6/dist-packages (from requests->outdated->pingouin) (2019.11.28)\n",
            "Requirement already satisfied: chardet<3.1.0,>=3.0.2 in /usr/local/lib/python3.6/dist-packages (from requests->outdated->pingouin) (3.0.4)\n",
            "Requirement already satisfied: urllib3<1.25,>=1.21.1 in /usr/local/lib/python3.6/dist-packages (from requests->outdated->pingouin) (1.24.3)\n",
            "Building wheels for collected packages: pingouin, outdated, littleutils\n",
            "  Building wheel for pingouin (setup.py) ... \u001b[?25l\u001b[?25hdone\n",
            "  Created wheel for pingouin: filename=pingouin-0.3.2-cp36-none-any.whl size=213120 sha256=f492097e89b8074b99beda99c5cf897edcd77587b31213e3a0b81644bb98d7b0\n",
            "  Stored in directory: /root/.cache/pip/wheels/e2/eb/b5/272dccc8d40791a973449f99f0a1b7decc97f98d210d68ce7a\n",
            "  Building wheel for outdated (setup.py) ... \u001b[?25l\u001b[?25hdone\n",
            "  Created wheel for outdated: filename=outdated-0.2.0-cp36-none-any.whl size=4961 sha256=25ad576ab44955cf31b9812585d30cd33dad0b7af000703a6aaf0a8fe9cbcacd\n",
            "  Stored in directory: /root/.cache/pip/wheels/fd/7c/ef/814f514d31197310872b5abf353feb8fef9d67ee658e1e7e39\n",
            "  Building wheel for littleutils (setup.py) ... \u001b[?25l\u001b[?25hdone\n",
            "  Created wheel for littleutils: filename=littleutils-0.2.2-cp36-none-any.whl size=7050 sha256=fc8718488a7a66c9451bb0ee0df595a864eecec08ae38d1392b057cfe2572871\n",
            "  Stored in directory: /root/.cache/pip/wheels/53/16/9f/ac67d15c40243754fd73f620e1b9b6dedc20492ecc19a2bae1\n",
            "Successfully built pingouin outdated littleutils\n",
            "Installing collected packages: pandas-flavor, littleutils, outdated, pingouin\n",
            "Successfully installed littleutils-0.2.2 outdated-0.2.0 pandas-flavor-0.2.0 pingouin-0.3.2\n"
          ],
          "name": "stdout"
        }
      ]
    },
    {
      "cell_type": "code",
      "metadata": {
        "id": "LKDIsS2BRAWj",
        "colab_type": "code",
        "outputId": "44045481-a958-4670-d766-ea169580429d",
        "colab": {
          "base_uri": "https://localhost:8080/",
          "height": 206
        }
      },
      "source": [
        "import pingouin as pg\n",
        "df[['los', 'infect', 'nurses', 'beds', 'xray']].pcorr().round(3)"
      ],
      "execution_count": 0,
      "outputs": [
        {
          "output_type": "execute_result",
          "data": {
            "text/html": [
              "<div>\n",
              "<style scoped>\n",
              "    .dataframe tbody tr th:only-of-type {\n",
              "        vertical-align: middle;\n",
              "    }\n",
              "\n",
              "    .dataframe tbody tr th {\n",
              "        vertical-align: top;\n",
              "    }\n",
              "\n",
              "    .dataframe thead th {\n",
              "        text-align: right;\n",
              "    }\n",
              "</style>\n",
              "<table border=\"1\" class=\"dataframe\">\n",
              "  <thead>\n",
              "    <tr style=\"text-align: right;\">\n",
              "      <th></th>\n",
              "      <th>los</th>\n",
              "      <th>infect</th>\n",
              "      <th>nurses</th>\n",
              "      <th>beds</th>\n",
              "      <th>xray</th>\n",
              "    </tr>\n",
              "  </thead>\n",
              "  <tbody>\n",
              "    <tr>\n",
              "      <th>los</th>\n",
              "      <td>1.000</td>\n",
              "      <td>0.358</td>\n",
              "      <td>-0.203</td>\n",
              "      <td>0.315</td>\n",
              "      <td>0.243</td>\n",
              "    </tr>\n",
              "    <tr>\n",
              "      <th>infect</th>\n",
              "      <td>0.358</td>\n",
              "      <td>1.000</td>\n",
              "      <td>0.209</td>\n",
              "      <td>-0.086</td>\n",
              "      <td>0.332</td>\n",
              "    </tr>\n",
              "    <tr>\n",
              "      <th>nurses</th>\n",
              "      <td>-0.203</td>\n",
              "      <td>0.209</td>\n",
              "      <td>1.000</td>\n",
              "      <td>0.901</td>\n",
              "      <td>0.058</td>\n",
              "    </tr>\n",
              "    <tr>\n",
              "      <th>beds</th>\n",
              "      <td>0.315</td>\n",
              "      <td>-0.086</td>\n",
              "      <td>0.901</td>\n",
              "      <td>1.000</td>\n",
              "      <td>-0.140</td>\n",
              "    </tr>\n",
              "    <tr>\n",
              "      <th>xray</th>\n",
              "      <td>0.243</td>\n",
              "      <td>0.332</td>\n",
              "      <td>0.058</td>\n",
              "      <td>-0.140</td>\n",
              "      <td>1.000</td>\n",
              "    </tr>\n",
              "  </tbody>\n",
              "</table>\n",
              "</div>"
            ],
            "text/plain": [
              "          los  infect  nurses   beds   xray\n",
              "los     1.000   0.358  -0.203  0.315  0.243\n",
              "infect  0.358   1.000   0.209 -0.086  0.332\n",
              "nurses -0.203   0.209   1.000  0.901  0.058\n",
              "beds    0.315  -0.086   0.901  1.000 -0.140\n",
              "xray    0.243   0.332   0.058 -0.140  1.000"
            ]
          },
          "metadata": {
            "tags": []
          },
          "execution_count": 55
        }
      ]
    },
    {
      "cell_type": "markdown",
      "metadata": {
        "id": "TImmrZmzSS_J",
        "colab_type": "text"
      },
      "source": [
        "| |Coef of partial determination | Extra sum of squares|\n",
        "|---|---|---|\n",
        "$X3 | X1, X2$ | -.203 | 28.38\n",
        "$X4 | X1, X2$ | .315 | 13.61\n",
        "$X5 | X1, X2$ | .243 | 14.31\n",
        "\n",
        "The best additional predictor variable is the number of beds. The extra sum of squares is not necessarily larger. \n",
        "\n",
        "\n",
        "---\n",
        "\n",
        "Refer to the SENIC data set. Second-order regression model is to be fitted for relating number of\n",
        "nurses (Y) to available facilities and services (X).\n",
        "a. Produce a scatter plot between number of nurses (Y) and available facilities and services\n",
        "(X). What do you observe? Is the relationship linear? Comment on your findings.\n"
      ]
    },
    {
      "cell_type": "code",
      "metadata": {
        "id": "VGA6pURoRo6m",
        "colab_type": "code",
        "outputId": "2c259859-8491-4db4-dc80-37b0f759e6c4",
        "colab": {
          "base_uri": "https://localhost:8080/",
          "height": 303
        }
      },
      "source": [
        "sns.scatterplot(x=\"service\", y=\"nurses\", data=df)"
      ],
      "execution_count": 0,
      "outputs": [
        {
          "output_type": "execute_result",
          "data": {
            "text/plain": [
              "<matplotlib.axes._subplots.AxesSubplot at 0x7fbd8911bc88>"
            ]
          },
          "metadata": {
            "tags": []
          },
          "execution_count": 57
        },
        {
          "output_type": "display_data",
          "data": {
            "image/png": "[encoded data removed]",
            "text/plain": [
              "<Figure size 432x288 with 1 Axes>"
            ]
          },
          "metadata": {
            "tags": []
          }
        }
      ]
    },
    {
      "cell_type": "markdown",
      "metadata": {
        "id": "oAWdgA9cQGqG",
        "colab_type": "text"
      },
      "source": [
        "The nurses and the services have a positive correlation, however the relationship is not linear\n",
        "\n",
        "\n",
        "---\n",
        "\n",
        "Create a centered X variable and its quadratic term. Fit the second-order regression model\n",
        "and report the estimated regression equation. Report both adjusted and unadjusted Rsquares.\n",
        "Is the overall model fit significant?\n"
      ]
    },
    {
      "cell_type": "code",
      "metadata": {
        "id": "TbDxV2XrTYuB",
        "colab_type": "code",
        "colab": {}
      },
      "source": [
        "df['center_X'] = df['service'] - df['service'].mean()\n",
        "df['center_X_sq'] = df['center_X']**2"
      ],
      "execution_count": 0,
      "outputs": []
    },
    {
      "cell_type": "code",
      "metadata": {
        "id": "tRhQ0f5xUL6W",
        "colab_type": "code",
        "outputId": "7f09ae19-18fc-4827-a738-3c0606ecc256",
        "colab": {
          "base_uri": "https://localhost:8080/",
          "height": 452
        }
      },
      "source": [
        "mod_last = smf.ols(formula='nurses ~ center_X_sq', data=df).fit()\n",
        "mod_last.summary()"
      ],
      "execution_count": 78,
      "outputs": [
        {
          "output_type": "execute_result",
          "data": {
            "text/html": [
              "<table class=\"simpletable\">\n",
              "<caption>OLS Regression Results</caption>\n",
              "<tr>\n",
              "  <th>Dep. Variable:</th>         <td>nurses</td>      <th>  R-squared:         </th> <td>   0.064</td>\n",
              "</tr>\n",
              "<tr>\n",
              "  <th>Model:</th>                   <td>OLS</td>       <th>  Adj. R-squared:    </th> <td>   0.056</td>\n",
              "</tr>\n",
              "<tr>\n",
              "  <th>Method:</th>             <td>Least Squares</td>  <th>  F-statistic:       </th> <td>   7.607</td>\n",
              "</tr>\n",
              "<tr>\n",
              "  <th>Date:</th>             <td>Tue, 28 Jan 2020</td> <th>  Prob (F-statistic):</th>  <td>0.00680</td>\n",
              "</tr>\n",
              "<tr>\n",
              "  <th>Time:</th>                 <td>13:42:08</td>     <th>  Log-Likelihood:    </th> <td> -713.90</td>\n",
              "</tr>\n",
              "<tr>\n",
              "  <th>No. Observations:</th>      <td>   113</td>      <th>  AIC:               </th> <td>   1432.</td>\n",
              "</tr>\n",
              "<tr>\n",
              "  <th>Df Residuals:</th>          <td>   111</td>      <th>  BIC:               </th> <td>   1437.</td>\n",
              "</tr>\n",
              "<tr>\n",
              "  <th>Df Model:</th>              <td>     1</td>      <th>                     </th>     <td> </td>   \n",
              "</tr>\n",
              "<tr>\n",
              "  <th>Covariance Type:</th>      <td>nonrobust</td>    <th>                     </th>     <td> </td>   \n",
              "</tr>\n",
              "</table>\n",
              "<table class=\"simpletable\">\n",
              "<tr>\n",
              "       <td></td>          <th>coef</th>     <th>std err</th>      <th>t</th>      <th>P>|t|</th>  <th>[0.025</th>    <th>0.975]</th>  \n",
              "</tr>\n",
              "<tr>\n",
              "  <th>Intercept</th>   <td>  145.0210</td> <td>   16.335</td> <td>    8.878</td> <td> 0.000</td> <td>  112.653</td> <td>  177.389</td>\n",
              "</tr>\n",
              "<tr>\n",
              "  <th>center_X_sq</th> <td>    0.1232</td> <td>    0.045</td> <td>    2.758</td> <td> 0.007</td> <td>    0.035</td> <td>    0.212</td>\n",
              "</tr>\n",
              "</table>\n",
              "<table class=\"simpletable\">\n",
              "<tr>\n",
              "  <th>Omnibus:</th>       <td>10.450</td> <th>  Durbin-Watson:     </th> <td>   2.062</td>\n",
              "</tr>\n",
              "<tr>\n",
              "  <th>Prob(Omnibus):</th> <td> 0.005</td> <th>  Jarque-Bera (JB):  </th> <td>  10.733</td>\n",
              "</tr>\n",
              "<tr>\n",
              "  <th>Skew:</th>          <td> 0.740</td> <th>  Prob(JB):          </th> <td> 0.00467</td>\n",
              "</tr>\n",
              "<tr>\n",
              "  <th>Kurtosis:</th>      <td> 3.303</td> <th>  Cond. No.          </th> <td>    469.</td>\n",
              "</tr>\n",
              "</table><br/><br/>Warnings:<br/>[1] Standard Errors assume that the covariance matrix of the errors is correctly specified."
            ],
            "text/plain": [
              "<class 'statsmodels.iolib.summary.Summary'>\n",
              "\"\"\"\n",
              "                            OLS Regression Results                            \n",
              "==============================================================================\n",
              "Dep. Variable:                 nurses   R-squared:                       0.064\n",
              "Model:                            OLS   Adj. R-squared:                  0.056\n",
              "Method:                 Least Squares   F-statistic:                     7.607\n",
              "Date:                Tue, 28 Jan 2020   Prob (F-statistic):            0.00680\n",
              "Time:                        13:42:08   Log-Likelihood:                -713.90\n",
              "No. Observations:                 113   AIC:                             1432.\n",
              "Df Residuals:                     111   BIC:                             1437.\n",
              "Df Model:                           1                                         \n",
              "Covariance Type:            nonrobust                                         \n",
              "===============================================================================\n",
              "                  coef    std err          t      P>|t|      [0.025      0.975]\n",
              "-------------------------------------------------------------------------------\n",
              "Intercept     145.0210     16.335      8.878      0.000     112.653     177.389\n",
              "center_X_sq     0.1232      0.045      2.758      0.007       0.035       0.212\n",
              "==============================================================================\n",
              "Omnibus:                       10.450   Durbin-Watson:                   2.062\n",
              "Prob(Omnibus):                  0.005   Jarque-Bera (JB):               10.733\n",
              "Skew:                           0.740   Prob(JB):                      0.00467\n",
              "Kurtosis:                       3.303   Cond. No.                         469.\n",
              "==============================================================================\n",
              "\n",
              "Warnings:\n",
              "[1] Standard Errors assume that the covariance matrix of the errors is correctly specified.\n",
              "\"\"\""
            ]
          },
          "metadata": {
            "tags": []
          },
          "execution_count": 78
        }
      ]
    },
    {
      "cell_type": "markdown",
      "metadata": {
        "id": "E1-gkitUW48Q",
        "colab_type": "text"
      },
      "source": [
        "The estimated regression equation is\n",
        "$$nurses = 145.0210 + 0.1232 * centered_X_sq$$\n",
        " R-squared is 0.064 and adjusted R-squared is 0.056. \n",
        "\n",
        " The overall model fit is significant.\n",
        "\n",
        "---\n",
        "Show a plot of residuals against the predicted values and the normal probability plot of\n",
        "residuals. What do you find? Are regression assumptions met? Conduct the White’s test\n",
        "for homoscedasticity. Comment on your findings.\n"
      ]
    },
    {
      "cell_type": "code",
      "metadata": {
        "id": "S3aZMcrEVIhP",
        "colab_type": "code",
        "colab": {
          "base_uri": "https://localhost:8080/",
          "height": 303
        },
        "outputId": "99f54396-f044-4ee3-b9d4-5a64b1c3d3d5"
      },
      "source": [
        "sns.residplot(x=\"center_X_sq\", y=\"nurses\", data=df)"
      ],
      "execution_count": 72,
      "outputs": [
        {
          "output_type": "execute_result",
          "data": {
            "text/plain": [
              "<matplotlib.axes._subplots.AxesSubplot at 0x7fbd82af5da0>"
            ]
          },
          "metadata": {
            "tags": []
          },
          "execution_count": 72
        },
        {
          "output_type": "display_data",
          "data": {
            "image/png": "[encoded data removed]",
            "text/plain": [
              "<Figure size 432x288 with 1 Axes>"
            ]
          },
          "metadata": {
            "tags": []
          }
        }
      ]
    },
    {
      "cell_type": "code",
      "metadata": {
        "id": "tPq5wlWcX2B0",
        "colab_type": "code",
        "colab": {
          "base_uri": "https://localhost:8080/",
          "height": 301
        },
        "outputId": "f8f2ea79-b9bf-46a0-d938-50e1f68e289b"
      },
      "source": [
        "trash_tuple = stats.probplot(x=mod_last.resid, plot=sns.mpl.pyplot, fit=True)"
      ],
      "execution_count": 86,
      "outputs": [
        {
          "output_type": "display_data",
          "data": {
            "image/png": "[encoded data removed]",
            "text/plain": [
              "<Figure size 432x288 with 1 Axes>"
            ]
          },
          "metadata": {
            "tags": []
          }
        }
      ]
    },
    {
      "cell_type": "code",
      "metadata": {
        "id": "2BMN9Jl5X-Wc",
        "colab_type": "code",
        "colab": {
          "base_uri": "https://localhost:8080/",
          "height": 35
        },
        "outputId": "d834719b-4834-4c50-f9d6-925876b84224"
      },
      "source": [
        "from statsmodels.stats.diagnostic import het_white\n",
        "\n",
        "white_test = het_white(mod_last.resid, exog=mod_last.model.exog)\n",
        "\n",
        "labels = ['LM Statistic', 'LM-Test p-value', 'F-Statistic', 'F-Test p-value']\n",
        "\n",
        "print(dict(zip(labels, white_test)))"
      ],
      "execution_count": 89,
      "outputs": [
        {
          "output_type": "stream",
          "text": [
            "{'LM Statistic': 41.047963973942856, 'LM-Test p-value': 1.2205283636805404e-09, 'F-Statistic': 31.376985881945895, 'F-Test p-value': 1.652172657019338e-11}\n"
          ],
          "name": "stdout"
        }
      ]
    },
    {
      "cell_type": "markdown",
      "metadata": {
        "id": "JsKTosyhZf92",
        "colab_type": "text"
      },
      "source": [
        "We reject the null hypothesis. The residual plot, the probability plots, and the White test all show that the errors do not have equal variances. \n",
        "\n",
        "---\n",
        "\n",
        "Fit the first-order regression model and report both adjusted and unadjusted R-squares.\n",
        "Compare model fits with the second-order model. Has the addition of the quadratic term\n",
        "in the regression model increased the adjusted R-square?"
      ]
    },
    {
      "cell_type": "code",
      "metadata": {
        "id": "IuwVIrMJYQRn",
        "colab_type": "code",
        "colab": {
          "base_uri": "https://localhost:8080/",
          "height": 452
        },
        "outputId": "030c81d9-2601-4410-f0e3-4ac1793c3c9b"
      },
      "source": [
        "mod_first = smf.ols(formula='nurses ~ service', data=df).fit()\n",
        "mod_first.summary()"
      ],
      "execution_count": 91,
      "outputs": [
        {
          "output_type": "execute_result",
          "data": {
            "text/html": [
              "<table class=\"simpletable\">\n",
              "<caption>OLS Regression Results</caption>\n",
              "<tr>\n",
              "  <th>Dep. Variable:</th>         <td>nurses</td>      <th>  R-squared:         </th> <td>   0.614</td>\n",
              "</tr>\n",
              "<tr>\n",
              "  <th>Model:</th>                   <td>OLS</td>       <th>  Adj. R-squared:    </th> <td>   0.610</td>\n",
              "</tr>\n",
              "<tr>\n",
              "  <th>Method:</th>             <td>Least Squares</td>  <th>  F-statistic:       </th> <td>   176.5</td>\n",
              "</tr>\n",
              "<tr>\n",
              "  <th>Date:</th>             <td>Tue, 28 Jan 2020</td> <th>  Prob (F-statistic):</th> <td>1.11e-24</td>\n",
              "</tr>\n",
              "<tr>\n",
              "  <th>Time:</th>                 <td>13:48:03</td>     <th>  Log-Likelihood:    </th> <td> -663.88</td>\n",
              "</tr>\n",
              "<tr>\n",
              "  <th>No. Observations:</th>      <td>   113</td>      <th>  AIC:               </th> <td>   1332.</td>\n",
              "</tr>\n",
              "<tr>\n",
              "  <th>Df Residuals:</th>          <td>   111</td>      <th>  BIC:               </th> <td>   1337.</td>\n",
              "</tr>\n",
              "<tr>\n",
              "  <th>Df Model:</th>              <td>     1</td>      <th>                     </th>     <td> </td>   \n",
              "</tr>\n",
              "<tr>\n",
              "  <th>Covariance Type:</th>      <td>nonrobust</td>    <th>                     </th>     <td> </td>   \n",
              "</tr>\n",
              "</table>\n",
              "<table class=\"simpletable\">\n",
              "<tr>\n",
              "      <td></td>         <th>coef</th>     <th>std err</th>      <th>t</th>      <th>P>|t|</th>  <th>[0.025</th>    <th>0.975]</th>  \n",
              "</tr>\n",
              "<tr>\n",
              "  <th>Intercept</th> <td> -136.5593</td> <td>   24.713</td> <td>   -5.526</td> <td> 0.000</td> <td> -185.530</td> <td>  -87.588</td>\n",
              "</tr>\n",
              "<tr>\n",
              "  <th>service</th>   <td>    7.1782</td> <td>    0.540</td> <td>   13.284</td> <td> 0.000</td> <td>    6.107</td> <td>    8.249</td>\n",
              "</tr>\n",
              "</table>\n",
              "<table class=\"simpletable\">\n",
              "<tr>\n",
              "  <th>Omnibus:</th>       <td>13.657</td> <th>  Durbin-Watson:     </th> <td>   1.938</td>\n",
              "</tr>\n",
              "<tr>\n",
              "  <th>Prob(Omnibus):</th> <td> 0.001</td> <th>  Jarque-Bera (JB):  </th> <td>  16.579</td>\n",
              "</tr>\n",
              "<tr>\n",
              "  <th>Skew:</th>          <td> 0.685</td> <th>  Prob(JB):          </th> <td>0.000251</td>\n",
              "</tr>\n",
              "<tr>\n",
              "  <th>Kurtosis:</th>      <td> 4.283</td> <th>  Cond. No.          </th> <td>    138.</td>\n",
              "</tr>\n",
              "</table><br/><br/>Warnings:<br/>[1] Standard Errors assume that the covariance matrix of the errors is correctly specified."
            ],
            "text/plain": [
              "<class 'statsmodels.iolib.summary.Summary'>\n",
              "\"\"\"\n",
              "                            OLS Regression Results                            \n",
              "==============================================================================\n",
              "Dep. Variable:                 nurses   R-squared:                       0.614\n",
              "Model:                            OLS   Adj. R-squared:                  0.610\n",
              "Method:                 Least Squares   F-statistic:                     176.5\n",
              "Date:                Tue, 28 Jan 2020   Prob (F-statistic):           1.11e-24\n",
              "Time:                        13:48:03   Log-Likelihood:                -663.88\n",
              "No. Observations:                 113   AIC:                             1332.\n",
              "Df Residuals:                     111   BIC:                             1337.\n",
              "Df Model:                           1                                         \n",
              "Covariance Type:            nonrobust                                         \n",
              "==============================================================================\n",
              "                 coef    std err          t      P>|t|      [0.025      0.975]\n",
              "------------------------------------------------------------------------------\n",
              "Intercept   -136.5593     24.713     -5.526      0.000    -185.530     -87.588\n",
              "service        7.1782      0.540     13.284      0.000       6.107       8.249\n",
              "==============================================================================\n",
              "Omnibus:                       13.657   Durbin-Watson:                   1.938\n",
              "Prob(Omnibus):                  0.001   Jarque-Bera (JB):               16.579\n",
              "Skew:                           0.685   Prob(JB):                     0.000251\n",
              "Kurtosis:                       4.283   Cond. No.                         138.\n",
              "==============================================================================\n",
              "\n",
              "Warnings:\n",
              "[1] Standard Errors assume that the covariance matrix of the errors is correctly specified.\n",
              "\"\"\""
            ]
          },
          "metadata": {
            "tags": []
          },
          "execution_count": 91
        }
      ]
    },
    {
      "cell_type": "markdown",
      "metadata": {
        "id": "X6SX_uahZ7rm",
        "colab_type": "text"
      },
      "source": [
        "The R-squared value is 0.614 and the adjusted R-squared value is 0.610. The first-order model is better than the second-order model. The addition of the quadratic term has decreased the adjusted R-squared.\n",
        "\n"
      ]
    },
    {
      "cell_type": "code",
      "metadata": {
        "id": "U4EUwo3rZ5GU",
        "colab_type": "code",
        "colab": {
          "base_uri": "https://localhost:8080/",
          "height": 508
        },
        "outputId": "086fb39b-36db-4dc3-b155-ec146b256072"
      },
      "source": [
        "model_f_test = smf.ols(formula='nurses ~ service + center_X_sq', data=df).fit()\n",
        "model_f_test.summary()"
      ],
      "execution_count": 101,
      "outputs": [
        {
          "output_type": "execute_result",
          "data": {
            "text/html": [
              "<table class=\"simpletable\">\n",
              "<caption>OLS Regression Results</caption>\n",
              "<tr>\n",
              "  <th>Dep. Variable:</th>         <td>nurses</td>      <th>  R-squared:         </th> <td>   0.657</td>\n",
              "</tr>\n",
              "<tr>\n",
              "  <th>Model:</th>                   <td>OLS</td>       <th>  Adj. R-squared:    </th> <td>   0.651</td>\n",
              "</tr>\n",
              "<tr>\n",
              "  <th>Method:</th>             <td>Least Squares</td>  <th>  F-statistic:       </th> <td>   105.3</td>\n",
              "</tr>\n",
              "<tr>\n",
              "  <th>Date:</th>             <td>Tue, 28 Jan 2020</td> <th>  Prob (F-statistic):</th> <td>2.79e-26</td>\n",
              "</tr>\n",
              "<tr>\n",
              "  <th>Time:</th>                 <td>13:58:50</td>     <th>  Log-Likelihood:    </th> <td> -657.20</td>\n",
              "</tr>\n",
              "<tr>\n",
              "  <th>No. Observations:</th>      <td>   113</td>      <th>  AIC:               </th> <td>   1320.</td>\n",
              "</tr>\n",
              "<tr>\n",
              "  <th>Df Residuals:</th>          <td>   110</td>      <th>  BIC:               </th> <td>   1329.</td>\n",
              "</tr>\n",
              "<tr>\n",
              "  <th>Df Model:</th>              <td>     2</td>      <th>                     </th>     <td> </td>   \n",
              "</tr>\n",
              "<tr>\n",
              "  <th>Covariance Type:</th>      <td>nonrobust</td>    <th>                     </th>     <td> </td>   \n",
              "</tr>\n",
              "</table>\n",
              "<table class=\"simpletable\">\n",
              "<tr>\n",
              "       <td></td>          <th>coef</th>     <th>std err</th>      <th>t</th>      <th>P>|t|</th>  <th>[0.025</th>    <th>0.975]</th>  \n",
              "</tr>\n",
              "<tr>\n",
              "  <th>Intercept</th>   <td> -154.8918</td> <td>   23.915</td> <td>   -6.477</td> <td> 0.000</td> <td> -202.285</td> <td> -107.499</td>\n",
              "</tr>\n",
              "<tr>\n",
              "  <th>service</th>     <td>    7.0662</td> <td>    0.513</td> <td>   13.787</td> <td> 0.000</td> <td>    6.050</td> <td>    8.082</td>\n",
              "</tr>\n",
              "<tr>\n",
              "  <th>center_X_sq</th> <td>    0.1012</td> <td>    0.027</td> <td>    3.716</td> <td> 0.000</td> <td>    0.047</td> <td>    0.155</td>\n",
              "</tr>\n",
              "</table>\n",
              "<table class=\"simpletable\">\n",
              "<tr>\n",
              "  <th>Omnibus:</th>       <td>17.985</td> <th>  Durbin-Watson:     </th> <td>   1.822</td>\n",
              "</tr>\n",
              "<tr>\n",
              "  <th>Prob(Omnibus):</th> <td> 0.000</td> <th>  Jarque-Bera (JB):  </th> <td>  41.675</td>\n",
              "</tr>\n",
              "<tr>\n",
              "  <th>Skew:</th>          <td> 0.564</td> <th>  Prob(JB):          </th> <td>8.92e-10</td>\n",
              "</tr>\n",
              "<tr>\n",
              "  <th>Kurtosis:</th>      <td> 5.753</td> <th>  Cond. No.          </th> <td>1.13e+03</td>\n",
              "</tr>\n",
              "</table><br/><br/>Warnings:<br/>[1] Standard Errors assume that the covariance matrix of the errors is correctly specified.<br/>[2] The condition number is large, 1.13e+03. This might indicate that there are<br/>strong multicollinearity or other numerical problems."
            ],
            "text/plain": [
              "<class 'statsmodels.iolib.summary.Summary'>\n",
              "\"\"\"\n",
              "                            OLS Regression Results                            \n",
              "==============================================================================\n",
              "Dep. Variable:                 nurses   R-squared:                       0.657\n",
              "Model:                            OLS   Adj. R-squared:                  0.651\n",
              "Method:                 Least Squares   F-statistic:                     105.3\n",
              "Date:                Tue, 28 Jan 2020   Prob (F-statistic):           2.79e-26\n",
              "Time:                        13:58:50   Log-Likelihood:                -657.20\n",
              "No. Observations:                 113   AIC:                             1320.\n",
              "Df Residuals:                     110   BIC:                             1329.\n",
              "Df Model:                           2                                         \n",
              "Covariance Type:            nonrobust                                         \n",
              "===============================================================================\n",
              "                  coef    std err          t      P>|t|      [0.025      0.975]\n",
              "-------------------------------------------------------------------------------\n",
              "Intercept    -154.8918     23.915     -6.477      0.000    -202.285    -107.499\n",
              "service         7.0662      0.513     13.787      0.000       6.050       8.082\n",
              "center_X_sq     0.1012      0.027      3.716      0.000       0.047       0.155\n",
              "==============================================================================\n",
              "Omnibus:                       17.985   Durbin-Watson:                   1.822\n",
              "Prob(Omnibus):                  0.000   Jarque-Bera (JB):               41.675\n",
              "Skew:                           0.564   Prob(JB):                     8.92e-10\n",
              "Kurtosis:                       5.753   Cond. No.                     1.13e+03\n",
              "==============================================================================\n",
              "\n",
              "Warnings:\n",
              "[1] Standard Errors assume that the covariance matrix of the errors is correctly specified.\n",
              "[2] The condition number is large, 1.13e+03. This might indicate that there are\n",
              "strong multicollinearity or other numerical problems.\n",
              "\"\"\""
            ]
          },
          "metadata": {
            "tags": []
          },
          "execution_count": 101
        }
      ]
    },
    {
      "cell_type": "code",
      "metadata": {
        "id": "VC5Q29OSbLC5",
        "colab_type": "code",
        "colab": {
          "base_uri": "https://localhost:8080/",
          "height": 54
        },
        "outputId": "ee3f2da3-0562-49cb-c508-8c0943f2856f"
      },
      "source": [
        "print(model_f_test.compare_f_test(restricted = mod_first))\n",
        "print('F-value,', 'p-value,', 'Difference in df')"
      ],
      "execution_count": 106,
      "outputs": [
        {
          "output_type": "stream",
          "text": [
            "(13.806504803177596, 0.0003202726027488469, 1.0)\n",
            "F-value, p-value, Difference in df\n"
          ],
          "name": "stdout"
        }
      ]
    },
    {
      "cell_type": "markdown",
      "metadata": {
        "id": "WJug-3JRdQxw",
        "colab_type": "text"
      },
      "source": [
        "The null hypothesis is that the interaction term $\\beta_{1,1}$ = $\\beta_{2,2}$ = $\\beta_{1,2}$ = 0 | the linear terms are in the model\n",
        "\n",
        "Even though the F-value is still significant (p < 0.05) we can still drop the quadratic term based on the R-squared. The more appropriate analysis strategy is to transform the data.\n",
        "\n",
        "\n",
        "---\n",
        "\n",
        "Count data are often right-skewed and we make an a priori decision to log-transform\n",
        "such data. Log-transform number of nurses (Y). Fit a first-order regression model using\n",
        "the log-transformed Y and report the estimated regression model. Compare its adjusted Rsquare\n",
        "with those obtained in parts b) and d) above. Show a plot of residuals against the\n",
        "predicted values and the normal probability plot of residuals. Which model do you\n",
        "prefer and why? Comment.\n"
      ]
    },
    {
      "cell_type": "code",
      "metadata": {
        "id": "7-uRlmDdcvqH",
        "colab_type": "code",
        "colab": {}
      },
      "source": [
        "df['log_nurses'] = np.log(df['nurses'])"
      ],
      "execution_count": 0,
      "outputs": []
    },
    {
      "cell_type": "code",
      "metadata": {
        "id": "0-7NM5EMeRQQ",
        "colab_type": "code",
        "colab": {}
      },
      "source": [
        "model_log = smf.ols(formula='log_nurses ~ service', data=df).fit()"
      ],
      "execution_count": 0,
      "outputs": []
    },
    {
      "cell_type": "code",
      "metadata": {
        "id": "sixHxQUreZdk",
        "colab_type": "code",
        "colab": {
          "base_uri": "https://localhost:8080/",
          "height": 452
        },
        "outputId": "a01a2ec8-8fed-4832-f0f3-f3608109e003"
      },
      "source": [
        "model_log.summary()"
      ],
      "execution_count": 110,
      "outputs": [
        {
          "output_type": "execute_result",
          "data": {
            "text/html": [
              "<table class=\"simpletable\">\n",
              "<caption>OLS Regression Results</caption>\n",
              "<tr>\n",
              "  <th>Dep. Variable:</th>       <td>log_nurses</td>    <th>  R-squared:         </th> <td>   0.722</td>\n",
              "</tr>\n",
              "<tr>\n",
              "  <th>Model:</th>                   <td>OLS</td>       <th>  Adj. R-squared:    </th> <td>   0.719</td>\n",
              "</tr>\n",
              "<tr>\n",
              "  <th>Method:</th>             <td>Least Squares</td>  <th>  F-statistic:       </th> <td>   288.2</td>\n",
              "</tr>\n",
              "<tr>\n",
              "  <th>Date:</th>             <td>Tue, 28 Jan 2020</td> <th>  Prob (F-statistic):</th> <td>1.24e-32</td>\n",
              "</tr>\n",
              "<tr>\n",
              "  <th>Time:</th>                 <td>14:07:47</td>     <th>  Log-Likelihood:    </th> <td> -66.929</td>\n",
              "</tr>\n",
              "<tr>\n",
              "  <th>No. Observations:</th>      <td>   113</td>      <th>  AIC:               </th> <td>   137.9</td>\n",
              "</tr>\n",
              "<tr>\n",
              "  <th>Df Residuals:</th>          <td>   111</td>      <th>  BIC:               </th> <td>   143.3</td>\n",
              "</tr>\n",
              "<tr>\n",
              "  <th>Df Model:</th>              <td>     1</td>      <th>                     </th>     <td> </td>   \n",
              "</tr>\n",
              "<tr>\n",
              "  <th>Covariance Type:</th>      <td>nonrobust</td>    <th>                     </th>     <td> </td>   \n",
              "</tr>\n",
              "</table>\n",
              "<table class=\"simpletable\">\n",
              "<tr>\n",
              "      <td></td>         <th>coef</th>     <th>std err</th>      <th>t</th>      <th>P>|t|</th>  <th>[0.025</th>    <th>0.975]</th>  \n",
              "</tr>\n",
              "<tr>\n",
              "  <th>Intercept</th> <td>    2.8265</td> <td>    0.126</td> <td>   22.522</td> <td> 0.000</td> <td>    2.578</td> <td>    3.075</td>\n",
              "</tr>\n",
              "<tr>\n",
              "  <th>service</th>   <td>    0.0466</td> <td>    0.003</td> <td>   16.978</td> <td> 0.000</td> <td>    0.041</td> <td>    0.052</td>\n",
              "</tr>\n",
              "</table>\n",
              "<table class=\"simpletable\">\n",
              "<tr>\n",
              "  <th>Omnibus:</th>       <td> 0.199</td> <th>  Durbin-Watson:     </th> <td>   1.826</td>\n",
              "</tr>\n",
              "<tr>\n",
              "  <th>Prob(Omnibus):</th> <td> 0.905</td> <th>  Jarque-Bera (JB):  </th> <td>   0.363</td>\n",
              "</tr>\n",
              "<tr>\n",
              "  <th>Skew:</th>          <td>-0.063</td> <th>  Prob(JB):          </th> <td>   0.834</td>\n",
              "</tr>\n",
              "<tr>\n",
              "  <th>Kurtosis:</th>      <td> 2.752</td> <th>  Cond. No.          </th> <td>    138.</td>\n",
              "</tr>\n",
              "</table><br/><br/>Warnings:<br/>[1] Standard Errors assume that the covariance matrix of the errors is correctly specified."
            ],
            "text/plain": [
              "<class 'statsmodels.iolib.summary.Summary'>\n",
              "\"\"\"\n",
              "                            OLS Regression Results                            \n",
              "==============================================================================\n",
              "Dep. Variable:             log_nurses   R-squared:                       0.722\n",
              "Model:                            OLS   Adj. R-squared:                  0.719\n",
              "Method:                 Least Squares   F-statistic:                     288.2\n",
              "Date:                Tue, 28 Jan 2020   Prob (F-statistic):           1.24e-32\n",
              "Time:                        14:07:47   Log-Likelihood:                -66.929\n",
              "No. Observations:                 113   AIC:                             137.9\n",
              "Df Residuals:                     111   BIC:                             143.3\n",
              "Df Model:                           1                                         \n",
              "Covariance Type:            nonrobust                                         \n",
              "==============================================================================\n",
              "                 coef    std err          t      P>|t|      [0.025      0.975]\n",
              "------------------------------------------------------------------------------\n",
              "Intercept      2.8265      0.126     22.522      0.000       2.578       3.075\n",
              "service        0.0466      0.003     16.978      0.000       0.041       0.052\n",
              "==============================================================================\n",
              "Omnibus:                        0.199   Durbin-Watson:                   1.826\n",
              "Prob(Omnibus):                  0.905   Jarque-Bera (JB):                0.363\n",
              "Skew:                          -0.063   Prob(JB):                        0.834\n",
              "Kurtosis:                       2.752   Cond. No.                         138.\n",
              "==============================================================================\n",
              "\n",
              "Warnings:\n",
              "[1] Standard Errors assume that the covariance matrix of the errors is correctly specified.\n",
              "\"\"\""
            ]
          },
          "metadata": {
            "tags": []
          },
          "execution_count": 110
        }
      ]
    },
    {
      "cell_type": "code",
      "metadata": {
        "id": "nnTYRYUgebJx",
        "colab_type": "code",
        "colab": {
          "base_uri": "https://localhost:8080/",
          "height": 303
        },
        "outputId": "f7936991-a317-4c53-b791-16569880cc35"
      },
      "source": [
        "sns.residplot(x=\"service\", y=\"log_nurses\", data=df)"
      ],
      "execution_count": 111,
      "outputs": [
        {
          "output_type": "execute_result",
          "data": {
            "text/plain": [
              "<matplotlib.axes._subplots.AxesSubplot at 0x7fbd82824358>"
            ]
          },
          "metadata": {
            "tags": []
          },
          "execution_count": 111
        },
        {
          "output_type": "display_data",
          "data": {
            "image/png": "[encoded data removed]",
            "text/plain": [
              "<Figure size 432x288 with 1 Axes>"
            ]
          },
          "metadata": {
            "tags": []
          }
        }
      ]
    },
    {
      "cell_type": "code",
      "metadata": {
        "id": "xQrskSSqeh3y",
        "colab_type": "code",
        "colab": {
          "base_uri": "https://localhost:8080/",
          "height": 301
        },
        "outputId": "4f9d2b2c-821d-4148-ddef-f2be28846dce"
      },
      "source": [
        "trash_tuple = stats.probplot(x=model_log.resid, plot=sns.mpl.pyplot, fit=True)"
      ],
      "execution_count": 112,
      "outputs": [
        {
          "output_type": "display_data",
          "data": {
            "image/png": "[encoded data removed]",
            "text/plain": [
              "<Figure size 432x288 with 1 Axes>"
            ]
          },
          "metadata": {
            "tags": []
          }
        }
      ]
    },
    {
      "cell_type": "markdown",
      "metadata": {
        "id": "cM6yMMIgepq-",
        "colab_type": "text"
      },
      "source": [
        "The estimated regression model is log.nurses = 2.8265 + 0.0466 * service. The adjusted R squared is increased compared to the other models. I prefer the log transformed model because it fits the spread of the data better, based on the original scatter plot.  "
      ]
    },
    {
      "cell_type": "code",
      "metadata": {
        "id": "2jInVx7vfSji",
        "colab_type": "code",
        "colab": {}
      },
      "source": [
        ""
      ],
      "execution_count": 0,
      "outputs": []
    }
  ]
}